{
 "cells": [
  {
   "cell_type": "markdown",
   "metadata": {},
   "source": [
    "## MTH9855 Asset Allocation and Portfolio Management\n",
    "\n",
    "* HW 03\n",
    "* **Author: Hongchao Pan**\n",
    "* Kernel Version: Python 3\n",
    "* Package: numpy, pandas, time, math, matplotlib \n",
    "* Notes:\n",
    "    * Running time is around 5min."
   ]
  },
  {
   "cell_type": "markdown",
   "metadata": {},
   "source": [
    "### Part 1: Define functions"
   ]
  },
  {
   "cell_type": "markdown",
   "metadata": {},
   "source": [
    "* From equation (3.2) we know that maximize $u = $ minimize $-u$, i.e., minimize\n",
    "\n",
    "$$\n",
    "\\begin{eqnarray*}\n",
    "-u &=&\\sum_{t=1}^T\\left[\\frac{\\kappa}{2}\\sigma^2 x_t^2+c(x_t - x_{t-1})-x_t \\alpha_t \\right] \\\\\n",
    "&=&\\sum_{t=1}^T\\left[\\frac{\\kappa}{2}\\sigma^2 x_t^2 -x_t \\alpha_t\\right] +\\sum_{t=1}^T\\left[c(x_t -x_{t-1})\\right]\n",
    "\\end{eqnarray*}\n",
    "$$"
   ]
  },
  {
   "cell_type": "markdown",
   "metadata": {},
   "source": [
    "* As we can see, the first term is convex and differentiable and second term is non-differtiable. According to \"Tseng's theorem\", we can optimize this by using blockwise coordinate descent (BCD) algorithm based on suggestion of Tseng's results."
   ]
  },
  {
   "cell_type": "code",
   "execution_count": 1,
   "metadata": {
    "collapsed": true
   },
   "outputs": [],
   "source": [
    "# Import the libraries\n",
    "import numpy as np\n",
    "import math\n",
    "import matplotlib.pyplot as plt\n",
    "import pandas as pd\n",
    "import time"
   ]
  },
  {
   "cell_type": "code",
   "execution_count": 2,
   "metadata": {
    "collapsed": true
   },
   "outputs": [],
   "source": [
    "# Record the whole computation time\n",
    "start_All=time.clock()"
   ]
  },
  {
   "cell_type": "code",
   "execution_count": 3,
   "metadata": {
    "collapsed": true
   },
   "outputs": [],
   "source": [
    "# Define given equations\n",
    "# alpha_t\n",
    "def alpha_t(t,initial_fore,half_life):\n",
    "    return initial_fore*1e-4*pow(2.0,-t/half_life)\n",
    "\n",
    "# Cost function\n",
    "def c_delta(delta, P, V, theta, sigma, gamma, eta, beta):\n",
    "    X = delta / P  # Used python 3, this is reasonable division by default\n",
    "    return P * X * (0.5 * gamma * sigma * X  * pow(theta / V,0.25)/V + np.sign(X) * eta * sigma * pow(np.abs(X / V),beta))\n"
   ]
  },
  {
   "cell_type": "code",
   "execution_count": 4,
   "metadata": {
    "collapsed": true
   },
   "outputs": [],
   "source": [
    "# Define the golden section search\n",
    "gr = (1.0 + math.sqrt(5.0)) / 2.0 # golden ratio\n",
    "def golden_section_search(f, a, b, tol):\n",
    "    c = b - (b - a) / gr\n",
    "    d = a + (b - a) / gr\n",
    "    while abs(c - d) > tol:\n",
    "        if f(c) < f(d):\n",
    "            b = d\n",
    "        else:\n",
    "            a = c\n",
    "        c = b - (b - a) / gr\n",
    "        d = a + (b - a) / gr\n",
    "    return (b + a) / 2.0"
   ]
  },
  {
   "cell_type": "code",
   "execution_count": 5,
   "metadata": {
    "collapsed": true
   },
   "outputs": [],
   "source": [
    "# Define function to compute the optimal paths\n",
    "def optimal_path(T,tol,P, V, theta, sigma, gamma, eta, beta,kappa,initial_fore,half_life):\n",
    "    X=np.zeros(int(T)+1)\n",
    "    t=1\n",
    "    count=0\n",
    "    while True:\n",
    "        if count == T:\n",
    "            break\n",
    "\n",
    "        def func(x):\n",
    "            delta1=x-X[t-1]\n",
    "            if t==T:\n",
    "                delta2=0\n",
    "            else:\n",
    "                delta2=X[t+1]-x\n",
    "            return (0.5*kappa*sigma*sigma*x*x-x*alpha_t(t,initial_fore,half_life)+c_delta(delta1,P, V, theta, sigma, gamma, eta, beta)+c_delta(delta2,P, V, theta, sigma, gamma, eta, beta))\n",
    "        if t==T:\n",
    "            lb=X[t-1]-theta\n",
    "            ub=X[t-1]+theta\n",
    "        else:\n",
    "            lb=max(X[t-1]-theta,X[t+1]-theta)\n",
    "            ub=min(X[t-1]+theta,X[t+1]+theta)\n",
    "\n",
    "        # Use defined golden section search\n",
    "        x = golden_section_search(func,lb, ub, tol)\n",
    "\n",
    "        if abs(x - X[t]) <= tol:\n",
    "            count += 1\n",
    "        else:\n",
    "            count = 0\n",
    "            X[t]=x\n",
    "\n",
    "        if t==T:\n",
    "            t=1\n",
    "        else:\n",
    "            t=t+1\n",
    "    return X"
   ]
  },
  {
   "cell_type": "code",
   "execution_count": 6,
   "metadata": {
    "collapsed": true
   },
   "outputs": [],
   "source": [
    "# Given parameters\n",
    "T = 30.0 # 30 days\n",
    "P = 40.0\n",
    "V = 2e6\n",
    "theta = 2e8\n",
    "sigma = 0.02\n",
    "initial_fore=50.0\n",
    "half_life=5.0\n",
    "\n",
    "# Almgren model\n",
    "gamma = 0.314\n",
    "eta = 0.142\n",
    "beta = 0.6\n",
    "\n",
    "# risk aversion\n",
    "kappa = 1e-7\n",
    "\n",
    "# Set up tol\n",
    "tol=1.0"
   ]
  },
  {
   "cell_type": "code",
   "execution_count": 7,
   "metadata": {},
   "outputs": [
    {
     "name": "stdout",
     "output_type": "stream",
     "text": [
      "Optimization time is:  4.86 s\n"
     ]
    }
   ],
   "source": [
    "# Record the optimization time\n",
    "start=time.time()\n",
    "X=optimal_path(T,tol,P, V, theta, sigma, gamma, eta, beta,kappa,initial_fore,half_life)\n",
    "end=time.time()\n",
    "print(\"Optimization time is: \",round((end-start),2),\"s\")"
   ]
  },
  {
   "cell_type": "code",
   "execution_count": 8,
   "metadata": {},
   "outputs": [
    {
     "data": {
      "text/html": [
       "<div>\n",
       "<style>\n",
       "    .dataframe thead tr:only-child th {\n",
       "        text-align: right;\n",
       "    }\n",
       "\n",
       "    .dataframe thead th {\n",
       "        text-align: left;\n",
       "    }\n",
       "\n",
       "    .dataframe tbody tr th {\n",
       "        vertical-align: top;\n",
       "    }\n",
       "</style>\n",
       "<table border=\"1\" class=\"dataframe\">\n",
       "  <thead>\n",
       "    <tr style=\"text-align: right;\">\n",
       "      <th></th>\n",
       "      <th>Optimal Position</th>\n",
       "    </tr>\n",
       "  </thead>\n",
       "  <tbody>\n",
       "    <tr>\n",
       "      <th>0</th>\n",
       "      <td>0.000000e+00</td>\n",
       "    </tr>\n",
       "    <tr>\n",
       "      <th>1</th>\n",
       "      <td>2.416064e+07</td>\n",
       "    </tr>\n",
       "    <tr>\n",
       "      <th>2</th>\n",
       "      <td>3.738725e+07</td>\n",
       "    </tr>\n",
       "    <tr>\n",
       "      <th>3</th>\n",
       "      <td>4.362881e+07</td>\n",
       "    </tr>\n",
       "    <tr>\n",
       "      <th>4</th>\n",
       "      <td>4.559349e+07</td>\n",
       "    </tr>\n",
       "    <tr>\n",
       "      <th>5</th>\n",
       "      <td>4.554123e+07</td>\n",
       "    </tr>\n",
       "    <tr>\n",
       "      <th>6</th>\n",
       "      <td>4.414489e+07</td>\n",
       "    </tr>\n",
       "    <tr>\n",
       "      <th>7</th>\n",
       "      <td>4.172509e+07</td>\n",
       "    </tr>\n",
       "    <tr>\n",
       "      <th>8</th>\n",
       "      <td>3.871189e+07</td>\n",
       "    </tr>\n",
       "    <tr>\n",
       "      <th>9</th>\n",
       "      <td>3.542785e+07</td>\n",
       "    </tr>\n",
       "    <tr>\n",
       "      <th>10</th>\n",
       "      <td>3.209312e+07</td>\n",
       "    </tr>\n",
       "    <tr>\n",
       "      <th>11</th>\n",
       "      <td>2.884944e+07</td>\n",
       "    </tr>\n",
       "    <tr>\n",
       "      <th>12</th>\n",
       "      <td>2.578240e+07</td>\n",
       "    </tr>\n",
       "    <tr>\n",
       "      <th>13</th>\n",
       "      <td>2.293884e+07</td>\n",
       "    </tr>\n",
       "    <tr>\n",
       "      <th>14</th>\n",
       "      <td>2.033964e+07</td>\n",
       "    </tr>\n",
       "    <tr>\n",
       "      <th>15</th>\n",
       "      <td>1.798878e+07</td>\n",
       "    </tr>\n",
       "    <tr>\n",
       "      <th>16</th>\n",
       "      <td>1.587976e+07</td>\n",
       "    </tr>\n",
       "    <tr>\n",
       "      <th>17</th>\n",
       "      <td>1.399992e+07</td>\n",
       "    </tr>\n",
       "    <tr>\n",
       "      <th>18</th>\n",
       "      <td>1.233341e+07</td>\n",
       "    </tr>\n",
       "    <tr>\n",
       "      <th>19</th>\n",
       "      <td>1.086322e+07</td>\n",
       "    </tr>\n",
       "    <tr>\n",
       "      <th>20</th>\n",
       "      <td>9.572422e+06</td>\n",
       "    </tr>\n",
       "    <tr>\n",
       "      <th>21</th>\n",
       "      <td>8.445113e+06</td>\n",
       "    </tr>\n",
       "    <tr>\n",
       "      <th>22</th>\n",
       "      <td>7.466919e+06</td>\n",
       "    </tr>\n",
       "    <tr>\n",
       "      <th>23</th>\n",
       "      <td>6.625375e+06</td>\n",
       "    </tr>\n",
       "    <tr>\n",
       "      <th>24</th>\n",
       "      <td>5.910165e+06</td>\n",
       "    </tr>\n",
       "    <tr>\n",
       "      <th>25</th>\n",
       "      <td>5.313249e+06</td>\n",
       "    </tr>\n",
       "    <tr>\n",
       "      <th>26</th>\n",
       "      <td>4.828892e+06</td>\n",
       "    </tr>\n",
       "    <tr>\n",
       "      <th>27</th>\n",
       "      <td>4.453498e+06</td>\n",
       "    </tr>\n",
       "    <tr>\n",
       "      <th>28</th>\n",
       "      <td>4.185039e+06</td>\n",
       "    </tr>\n",
       "    <tr>\n",
       "      <th>29</th>\n",
       "      <td>4.021447e+06</td>\n",
       "    </tr>\n",
       "    <tr>\n",
       "      <th>30</th>\n",
       "      <td>3.955970e+06</td>\n",
       "    </tr>\n",
       "  </tbody>\n",
       "</table>\n",
       "</div>"
      ],
      "text/plain": [
       "    Optimal Position\n",
       "0       0.000000e+00\n",
       "1       2.416064e+07\n",
       "2       3.738725e+07\n",
       "3       4.362881e+07\n",
       "4       4.559349e+07\n",
       "5       4.554123e+07\n",
       "6       4.414489e+07\n",
       "7       4.172509e+07\n",
       "8       3.871189e+07\n",
       "9       3.542785e+07\n",
       "10      3.209312e+07\n",
       "11      2.884944e+07\n",
       "12      2.578240e+07\n",
       "13      2.293884e+07\n",
       "14      2.033964e+07\n",
       "15      1.798878e+07\n",
       "16      1.587976e+07\n",
       "17      1.399992e+07\n",
       "18      1.233341e+07\n",
       "19      1.086322e+07\n",
       "20      9.572422e+06\n",
       "21      8.445113e+06\n",
       "22      7.466919e+06\n",
       "23      6.625375e+06\n",
       "24      5.910165e+06\n",
       "25      5.313249e+06\n",
       "26      4.828892e+06\n",
       "27      4.453498e+06\n",
       "28      4.185039e+06\n",
       "29      4.021447e+06\n",
       "30      3.955970e+06"
      ]
     },
     "execution_count": 8,
     "metadata": {},
     "output_type": "execute_result"
    }
   ],
   "source": [
    "# Convert array to pandas dataframe\n",
    "res=pd.DataFrame()\n",
    "res['Optimal Position']=X\n",
    "# report the optimal position in a table\n",
    "res"
   ]
  },
  {
   "cell_type": "code",
   "execution_count": 9,
   "metadata": {},
   "outputs": [
    {
     "data": {
      "image/png": "[encoded data removed]",
      "text/plain": [
       "<matplotlib.figure.Figure at 0x23c71a5dd30>"
      ]
     },
     "metadata": {},
     "output_type": "display_data"
    }
   ],
   "source": [
    "# Plot the optimal position\n",
    "plt.plot(X)\n",
    "plt.xlabel(\"Day\")\n",
    "plt.ylabel(\"Optimal Position\")\n",
    "plt.title(\"Optiomal position vs Day with BCD optimization\")\n",
    "plt.show()"
   ]
  },
  {
   "cell_type": "markdown",
   "metadata": {},
   "source": [
    "### Part 2: Compute the expected profit and Sharpe ration of optimal paths"
   ]
  },
  {
   "cell_type": "code",
   "execution_count": 10,
   "metadata": {
    "collapsed": true
   },
   "outputs": [],
   "source": [
    "# Define the profit function\n",
    "def profit(X,T,P, V, theta, sigma, gamma, eta, beta,initial_fore,half_life):\n",
    "    def c(delta):\n",
    "        return c_delta(delta, P, V, theta, sigma, gamma, eta, beta)\n",
    "    ts=range(1,int(T)+1)\n",
    "    #alphas=map(lambda x:alpha_t(x,initial_fore,half_life),ts)\n",
    "    alphas=[]\n",
    "    cost=[]\n",
    "    deltas=np.diff(X)\n",
    "    for t in ts:\n",
    "        alphas.append(alpha_t(t,initial_fore,half_life))\n",
    "        \n",
    "    for delta in deltas:\n",
    "        cost.append(c(delta))\n",
    "\n",
    "    rtn=np.sum(X[1:]*alphas)\n",
    "    deltas=np.diff(X)\n",
    "    \n",
    "    cost_all=np.sum(cost)\n",
    "    return rtn-cost_all"
   ]
  },
  {
   "cell_type": "code",
   "execution_count": 11,
   "metadata": {
    "collapsed": true
   },
   "outputs": [],
   "source": [
    "# Define the Sharpe ratio function\n",
    "def sharpe_ratio(X,T,P, V, theta, sigma, gamma, eta, beta,initial_fore,half_life):\n",
    "    x_square=[]\n",
    "    for x in X:\n",
    "        x_square.append(x**2)\n",
    "    vol=math.sqrt(np.sum(x_square))*sigma\n",
    "    return profit(X,T,P, V, theta, sigma, gamma, eta, beta,initial_fore,half_life)/vol*math.sqrt(252.0)"
   ]
  },
  {
   "cell_type": "code",
   "execution_count": 12,
   "metadata": {
    "collapsed": true
   },
   "outputs": [],
   "source": [
    "# Parameters in Part 1\n",
    "# Default parameters\n",
    "T = 30.0 # 30 days\n",
    "P = 40.0\n",
    "V = 2e6\n",
    "theta = 2e8\n",
    "sigma = 0.02\n",
    "initial_fore=50.0\n",
    "half_life=5.0\n",
    "\n",
    "# Almgren model\n",
    "gamma = 0.314\n",
    "eta = 0.142\n",
    "beta = 0.6\n",
    "\n",
    "# risk aversion\n",
    "kappa = 1e-7\n",
    "\n",
    "# Set up tol\n",
    "tol=1.0"
   ]
  },
  {
   "cell_type": "code",
   "execution_count": 13,
   "metadata": {},
   "outputs": [],
   "source": [
    "# Define the range of changing parameters\n",
    "# Note: kappa cannot be negative\n",
    "kappa_ts = np.array([1e-8, .2*1e-7, .5 * 1e-7, 1e-7, .2 * 1e-6, .5 * 1e-6, 1e-6, .2 * 1e-5, .5 * 1e-5, 1e-5])\n",
    "half_life_ts = np.arange(1.0, 10.0, .5)  # From 1 to 10 with step 0.5\n",
    "initial_fore_ts = np.arange(5, 100, 5) # From 5 to 100 with step 2.5\n",
    "sigma_ts = np.arange(.01, .04, .005) # From 0.01 to 0.04 with step 0.005"
   ]
  },
  {
   "cell_type": "code",
   "execution_count": 14,
   "metadata": {},
   "outputs": [],
   "source": [
    "# Profit and Sharpe ration as a function of kappa\n",
    "# Default parameters\n",
    "sigma = 0.02\n",
    "initial_fore = 50.0\n",
    "half_life = 5.0\n",
    "profit_kappa=[]\n",
    "Sharpe_ratio_kappa=[]\n",
    "\n",
    "for kappa in kappa_ts:\n",
    "    X=optimal_path(T,tol,P, V, theta, sigma, gamma, eta, beta,kappa,initial_fore,half_life)\n",
    "    profit_kappa.append(profit(X,T,P, V, theta, sigma, gamma, eta, beta,initial_fore,half_life))\n",
    "    Sharpe_ratio_kappa.append(sharpe_ratio(X,T,P, V, theta, sigma, gamma, eta, beta,initial_fore,half_life))\n"
   ]
  },
  {
   "cell_type": "code",
   "execution_count": 15,
   "metadata": {},
   "outputs": [],
   "source": [
    "# Profit and Sharpe ration as a function of half-life\n",
    "# Default parameters\n",
    "sigma = 0.02\n",
    "initial_fore = 50.0\n",
    "kappa = 1e-7\n",
    "profit_hl=[]\n",
    "Sharpe_ratio_hl=[]\n",
    "\n",
    "\n",
    "for half_life in half_life_ts:\n",
    "    X=optimal_path(T,tol,P, V, theta, sigma, gamma, eta, beta,kappa,initial_fore,half_life)\n",
    "    profit_hl.append(profit(X,T,P, V, theta, sigma, gamma, eta, beta,initial_fore,half_life))\n",
    "    Sharpe_ratio_hl.append(sharpe_ratio(X,T,P, V, theta, sigma, gamma, eta, beta,initial_fore,half_life))\n"
   ]
  },
  {
   "cell_type": "code",
   "execution_count": 16,
   "metadata": {
    "collapsed": true
   },
   "outputs": [],
   "source": [
    "# Profit and Sharpe ration as a function of initial stregenth\n",
    "# Default parameters\n",
    "sigma = 0.02\n",
    "half_life = 5\n",
    "kappa = 1e-7\n",
    "profit_is=[]\n",
    "Sharpe_ratio_is=[]\n",
    "\n",
    "\n",
    "for initial_fore in initial_fore_ts:\n",
    "    X=optimal_path(T,tol,P, V, theta, sigma, gamma, eta, beta,kappa,initial_fore,half_life)\n",
    "    profit_is.append(profit(X,T,P, V, theta, sigma, gamma, eta, beta,initial_fore,half_life))\n",
    "    Sharpe_ratio_is.append(sharpe_ratio(X,T,P, V, theta, sigma, gamma, eta, beta,initial_fore,half_life))\n"
   ]
  },
  {
   "cell_type": "code",
   "execution_count": 17,
   "metadata": {
    "collapsed": true
   },
   "outputs": [],
   "source": [
    "# Profit and Sharpe ration as a function of sigma\n",
    "# Default parameters\n",
    "initial_fore = 50.0\n",
    "half_life = 5\n",
    "kappa = 1e-7\n",
    "profit_sigma=[]\n",
    "Sharpe_ratio_sigma=[]\n",
    "\n",
    "\n",
    "for sigma in sigma_ts:\n",
    "    X=optimal_path(T,tol,P, V, theta, sigma, gamma, eta, beta,kappa,initial_fore,half_life)\n",
    "    profit_sigma.append(profit(X,T,P, V, theta, sigma, gamma, eta, beta,initial_fore,half_life))\n",
    "    Sharpe_ratio_sigma.append(sharpe_ratio(X,T,P, V, theta, sigma, gamma, eta, beta,initial_fore,half_life))\n"
   ]
  },
  {
   "cell_type": "code",
   "execution_count": 18,
   "metadata": {},
   "outputs": [
    {
     "data": {
      "image/png": "[encoded data removed]",
      "text/plain": [
       "<matplotlib.figure.Figure at 0x23c71d9a438>"
      ]
     },
     "metadata": {},
     "output_type": "display_data"
    }
   ],
   "source": [
    "# Plot the Profit and Sharpe ratio against the changing parameters\n",
    "# kappa\n",
    "# Plot dual-y axis\n",
    "fig,ax1 = plt.subplots()\n",
    "ax2 = ax1.twinx()\n",
    "ax1.plot(kappa_ts, profit_kappa, 'b-')\n",
    "ax2.plot(kappa_ts, Sharpe_ratio_kappa, 'r-')\n",
    "\n",
    "ax1.set_xlabel('kappa')\n",
    "ax1.set_ylabel('Profit', color='b')\n",
    "ax2.set_ylabel('Sharpe ratio', color='r')\n",
    "\n",
    "plt.show()\n"
   ]
  },
  {
   "cell_type": "code",
   "execution_count": 19,
   "metadata": {},
   "outputs": [
    {
     "data": {
      "image/png": "[encoded data removed]",
      "text/plain": [
       "<matplotlib.figure.Figure at 0x23c71d5f7b8>"
      ]
     },
     "metadata": {},
     "output_type": "display_data"
    }
   ],
   "source": [
    "# half-life\n",
    "# Plot dual-y axis\n",
    "fig,ax1 = plt.subplots()\n",
    "ax2 = ax1.twinx()\n",
    "ax1.plot(half_life_ts, profit_hl, 'b-')\n",
    "ax2.plot(half_life_ts, Sharpe_ratio_hl, 'r-')\n",
    "\n",
    "ax1.set_xlabel('half-life')\n",
    "ax1.set_ylabel('Profit', color='b')\n",
    "ax2.set_ylabel('Sharpe ratio', color='r')\n",
    "\n",
    "plt.show()"
   ]
  },
  {
   "cell_type": "code",
   "execution_count": 20,
   "metadata": {},
   "outputs": [
    {
     "data": {
      "image/png": "[encoded data removed]",
      "text/plain": [
       "<matplotlib.figure.Figure at 0x23c72384eb8>"
      ]
     },
     "metadata": {},
     "output_type": "display_data"
    }
   ],
   "source": [
    "# initial strength\n",
    "# Plot dual-y axis\n",
    "fig,ax1 = plt.subplots()\n",
    "ax2 = ax1.twinx()\n",
    "ax1.plot(initial_fore_ts, profit_is, 'b-')\n",
    "ax2.plot(initial_fore_ts, Sharpe_ratio_is, 'r-')\n",
    "\n",
    "ax1.set_xlabel('initial strength')\n",
    "ax1.set_ylabel('Profit', color='b')\n",
    "ax2.set_ylabel('Sharpe ratio', color='r')\n",
    "\n",
    "plt.show()"
   ]
  },
  {
   "cell_type": "code",
   "execution_count": 21,
   "metadata": {},
   "outputs": [
    {
     "data": {
      "image/png": "[encoded data removed]",
      "text/plain": [
       "<matplotlib.figure.Figure at 0x23c724847f0>"
      ]
     },
     "metadata": {},
     "output_type": "display_data"
    }
   ],
   "source": [
    "# sigma\n",
    "# kappa\n",
    "# Plot dual-y axis\n",
    "fig,ax1 = plt.subplots()\n",
    "ax2 = ax1.twinx()\n",
    "ax1.plot(sigma_ts, profit_sigma, 'b-')\n",
    "ax2.plot(sigma_ts, Sharpe_ratio_sigma, 'r-')\n",
    "\n",
    "ax1.set_xlabel('sigma')\n",
    "ax1.set_ylabel('Profit', color='b')\n",
    "ax2.set_ylabel('Sharpe ratio', color='r')\n",
    "\n",
    "plt.show()"
   ]
  },
  {
   "cell_type": "code",
   "execution_count": 22,
   "metadata": {},
   "outputs": [
    {
     "name": "stdout",
     "output_type": "stream",
     "text": [
      "Computation time of notebook is:  321.977102797412\n"
     ]
    }
   ],
   "source": [
    "# Record computation time\n",
    "end_All=time.clock()\n",
    "print(\"Computation time of notebook is: \", (end_All-start_All))"
   ]
  }
 ],
 "metadata": {
  "kernelspec": {
   "display_name": "Python 3",
   "language": "python",
   "name": "python3"
  },
  "language_info": {
   "codemirror_mode": {
    "name": "ipython",
    "version": 3
   },
   "file_extension": ".py",
   "mimetype": "text/x-python",
   "name": "python",
   "nbconvert_exporter": "python",
   "pygments_lexer": "ipython3",
   "version": "3.6.2"
  }
 },
 "nbformat": 4,
 "nbformat_minor": 2
}
