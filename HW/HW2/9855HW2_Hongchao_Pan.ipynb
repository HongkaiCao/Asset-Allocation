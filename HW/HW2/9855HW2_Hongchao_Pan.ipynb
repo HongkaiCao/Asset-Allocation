{
 "cells": [
  {
   "cell_type": "markdown",
   "metadata": {},
   "source": [
    "## MTH9855 Asset Allocation and Portfolio Management\n",
    "\n",
    "* HW 02\n",
    "* **Author: Hongchao Pan**\n",
    "* Kernel Version: R 3.3.2"
   ]
  },
  {
   "cell_type": "code",
   "execution_count": 23,
   "metadata": {},
   "outputs": [
    {
     "name": "stderr",
     "output_type": "stream",
     "text": [
      "\n",
      "Attaching package: 'data.table'\n",
      "\n",
      "The following objects are masked from 'package:reshape2':\n",
      "\n",
      "    dcast, melt\n",
      "\n"
     ]
    }
   ],
   "source": [
    "# Load the library\n",
    "library(repr)\n",
    "library(reshape2)\n",
    "library(data.table)  # For fread function"
   ]
  },
  {
   "cell_type": "markdown",
   "metadata": {},
   "source": [
    "### Problem 2.1"
   ]
  },
  {
   "cell_type": "markdown",
   "metadata": {},
   "source": [
    "#### Answer of (a)"
   ]
  },
  {
   "cell_type": "code",
   "execution_count": 31,
   "metadata": {},
   "outputs": [
    {
     "data": {
      "text/html": [
       "<table>\n",
       "<thead><tr><th scope=col>DATE</th><th scope=col>TICKER</th><th scope=col>RM</th><th scope=col>R</th></tr></thead>\n",
       "<tbody>\n",
       "\t<tr><td>1990-01-02</td><td>IBM       </td><td> 0.017799 </td><td> 0.041169 </td></tr>\n",
       "\t<tr><td>1990-01-03</td><td>IBM       </td><td>-0.002586 </td><td> 0.008929 </td></tr>\n",
       "\t<tr><td>1990-01-04</td><td>IBM       </td><td>-0.008613 </td><td> 0.011378 </td></tr>\n",
       "\t<tr><td>1990-01-05</td><td>IBM       </td><td>-0.009756 </td><td>-0.002500 </td></tr>\n",
       "\t<tr><td>1990-01-08</td><td>IBM       </td><td> 0.004514 </td><td> 0.006266 </td></tr>\n",
       "\t<tr><td>1990-01-09</td><td>IBM       </td><td>-0.011787 </td><td>-0.009963 </td></tr>\n",
       "</tbody>\n",
       "</table>\n"
      ],
      "text/latex": [
       "\\begin{tabular}{r|llll}\n",
       " DATE & TICKER & RM & R\\\\\n",
       "\\hline\n",
       "\t 1990-01-02 & IBM        &  0.017799  &  0.041169 \\\\\n",
       "\t 1990-01-03 & IBM        & -0.002586  &  0.008929 \\\\\n",
       "\t 1990-01-04 & IBM        & -0.008613  &  0.011378 \\\\\n",
       "\t 1990-01-05 & IBM        & -0.009756  & -0.002500 \\\\\n",
       "\t 1990-01-08 & IBM        &  0.004514  &  0.006266 \\\\\n",
       "\t 1990-01-09 & IBM        & -0.011787  & -0.009963 \\\\\n",
       "\\end{tabular}\n"
      ],
      "text/markdown": [
       "\n",
       "DATE | TICKER | RM | R | \n",
       "|---|---|---|---|---|---|\n",
       "| 1990-01-02 | IBM        |  0.017799  |  0.041169  | \n",
       "| 1990-01-03 | IBM        | -0.002586  |  0.008929  | \n",
       "| 1990-01-04 | IBM        | -0.008613  |  0.011378  | \n",
       "| 1990-01-05 | IBM        | -0.009756  | -0.002500  | \n",
       "| 1990-01-08 | IBM        |  0.004514  |  0.006266  | \n",
       "| 1990-01-09 | IBM        | -0.011787  | -0.009963  | \n",
       "\n",
       "\n"
      ],
      "text/plain": [
       "  DATE       TICKER RM        R        \n",
       "1 1990-01-02 IBM     0.017799  0.041169\n",
       "2 1990-01-03 IBM    -0.002586  0.008929\n",
       "3 1990-01-04 IBM    -0.008613  0.011378\n",
       "4 1990-01-05 IBM    -0.009756 -0.002500\n",
       "5 1990-01-08 IBM     0.004514  0.006266\n",
       "6 1990-01-09 IBM    -0.011787 -0.009963"
      ]
     },
     "metadata": {},
     "output_type": "display_data"
    }
   ],
   "source": [
    "# Load the dataframe\n",
    "df <- fread('./BetaExample.txt')  # Put the BetaExample.txt file under same directory\n",
    "head(df)"
   ]
  },
  {
   "cell_type": "code",
   "execution_count": 50,
   "metadata": {},
   "outputs": [
    {
     "data": {
      "text/html": [
       "<ol class=list-inline>\n",
       "\t<li>'IBM'</li>\n",
       "\t<li>'AAPL'</li>\n",
       "\t<li>'TSLA'</li>\n",
       "</ol>\n"
      ],
      "text/latex": [
       "\\begin{enumerate*}\n",
       "\\item 'IBM'\n",
       "\\item 'AAPL'\n",
       "\\item 'TSLA'\n",
       "\\end{enumerate*}\n"
      ],
      "text/markdown": [
       "1. 'IBM'\n",
       "2. 'AAPL'\n",
       "3. 'TSLA'\n",
       "\n",
       "\n"
      ],
      "text/plain": [
       "[1] \"IBM\"  \"AAPL\" \"TSLA\""
      ]
     },
     "metadata": {},
     "output_type": "display_data"
    }
   ],
   "source": [
    "# Get the unique tickers\n",
    "tickerList <- unique(df$TICKER);\n",
    "# Get the number of unique tickers\n",
    "k <- length(tickerList)\n",
    "tickerList"
   ]
  },
  {
   "cell_type": "code",
   "execution_count": 47,
   "metadata": {},
   "outputs": [
    {
     "name": "stdout",
     "output_type": "stream",
     "text": [
      "The summary of  IBM  is:  \n",
      "    Estimate Std. Error  t value Pr(>|t|)\n",
      "RM 0.9067384 0.01620043 55.97004        0\n",
      "\n",
      "The summary of  AAPL  is:  \n",
      "   Estimate Std. Error  t value      Pr(>|t|)\n",
      "RM   1.1363 0.02934033 38.72828 1.606052e-294\n",
      "\n",
      "The summary of  TSLA  is:  \n",
      "   Estimate Std. Error  t value     Pr(>|t|)\n",
      "RM 1.310085   0.104407 12.54786 6.510896e-34\n",
      "\n"
     ]
    }
   ],
   "source": [
    "# Compute the betas\n",
    "beta_all <- rep(0,k) # initialized\n",
    "names(beta_all) <- tickerList\n",
    "\n",
    "for(tick in unique(df$TICKER)) {\n",
    "    dftmp<- df[df$TICKER==tick,]\n",
    "    df_sub <- dftmp[which(df$DATE < as.Date('2015-01-01'))]  # Up to 12/31/2014\n",
    "    reg <- lm(R ~ RM + 0, data = df_sub)  # No intercept\n",
    "    beta_all[tick] <- as.double(coef(reg))\n",
    "    cat('The summary of ', tick, ' is: ','\\n')\n",
    "    print(summary(reg)$coefficients)\n",
    "    cat('\\n')\n",
    "}"
   ]
  },
  {
   "cell_type": "code",
   "execution_count": 48,
   "metadata": {},
   "outputs": [
    {
     "name": "stdout",
     "output_type": "stream",
     "text": [
      "The betas of all unique tickers are:  \n",
      "      IBM      AAPL      TSLA \n",
      "0.9067384 1.1363005 1.3100847 \n"
     ]
    }
   ],
   "source": [
    "cat(\"The betas of all unique tickers are: \",\"\\n\")\n",
    "print(beta_all)"
   ]
  },
  {
   "cell_type": "markdown",
   "metadata": {},
   "source": [
    "* Since all the p-value of all regression is very small (less than 0.01) and t-statistics are very large, we reject the null hypothesis."
   ]
  },
  {
   "cell_type": "markdown",
   "metadata": {},
   "source": [
    "#### Answer of (b): Compute the holding vector $h$"
   ]
  },
  {
   "cell_type": "code",
   "execution_count": 51,
   "metadata": {},
   "outputs": [
    {
     "name": "stdout",
     "output_type": "stream",
     "text": [
      "       IBM       AAPL       TSLA \n",
      "-0.4308561  1.0000000 -0.5691439 \n"
     ]
    }
   ],
   "source": [
    "# Since the question is asking the unit exposure to AAPL\n",
    "# We set AAPL as benchmark\n",
    "AAPL <- matrix(0, k, 3)\n",
    "\n",
    "rownames(AAPL) <- tickerList\n",
    "colnames(AAPL) <- c('AAPL', 'BETA', 'INTERCEPT')\n",
    "\n",
    "AAPL['AAPL', 'AAPL'] <- 1.0\n",
    "\n",
    "for(tick in tickerList){\n",
    "    AAPL[tick, 'BETA'] <- beta_all[tick]\n",
    "} \n",
    "AAPL[,'INTERCEPT'] <- 1.0\n",
    "\n",
    "v <- rep(0, NCOL(AAPL))\n",
    "names(v) <- c('AAPL', 'BETA', 'INTERCEPT')\n",
    "v['AAPL'] <- 1.0\n",
    "\n",
    "h <- solve(t(AAPL), v)\n",
    "print(h)"
   ]
  },
  {
   "cell_type": "markdown",
   "metadata": {},
   "source": [
    "#### Answer of (c): Compute the daily return of the portfolio from (b)"
   ]
  },
  {
   "cell_type": "code",
   "execution_count": 59,
   "metadata": {},
   "outputs": [
    {
     "data": {
      "text/html": [
       "<table>\n",
       "<thead><tr><th scope=col>DATE</th><th scope=col>TICKER</th><th scope=col>RM</th><th scope=col>R</th></tr></thead>\n",
       "<tbody>\n",
       "\t<tr><td>2015-01-02</td><td>IBM       </td><td>-0.000340 </td><td> 0.010097 </td></tr>\n",
       "\t<tr><td>2015-01-05</td><td>IBM       </td><td>-0.018278 </td><td>-0.015735 </td></tr>\n",
       "\t<tr><td>2015-01-06</td><td>IBM       </td><td>-0.008893 </td><td>-0.021566 </td></tr>\n",
       "\t<tr><td>2015-01-07</td><td>IBM       </td><td> 0.011630 </td><td>-0.006536 </td></tr>\n",
       "\t<tr><td>2015-01-08</td><td>IBM       </td><td> 0.017888 </td><td> 0.021735 </td></tr>\n",
       "\t<tr><td>2015-01-09</td><td>IBM       </td><td>-0.008404 </td><td> 0.004356 </td></tr>\n",
       "</tbody>\n",
       "</table>\n"
      ],
      "text/latex": [
       "\\begin{tabular}{r|llll}\n",
       " DATE & TICKER & RM & R\\\\\n",
       "\\hline\n",
       "\t 2015-01-02 & IBM        & -0.000340  &  0.010097 \\\\\n",
       "\t 2015-01-05 & IBM        & -0.018278  & -0.015735 \\\\\n",
       "\t 2015-01-06 & IBM        & -0.008893  & -0.021566 \\\\\n",
       "\t 2015-01-07 & IBM        &  0.011630  & -0.006536 \\\\\n",
       "\t 2015-01-08 & IBM        &  0.017888  &  0.021735 \\\\\n",
       "\t 2015-01-09 & IBM        & -0.008404  &  0.004356 \\\\\n",
       "\\end{tabular}\n"
      ],
      "text/markdown": [
       "\n",
       "DATE | TICKER | RM | R | \n",
       "|---|---|---|---|---|---|\n",
       "| 2015-01-02 | IBM        | -0.000340  |  0.010097  | \n",
       "| 2015-01-05 | IBM        | -0.018278  | -0.015735  | \n",
       "| 2015-01-06 | IBM        | -0.008893  | -0.021566  | \n",
       "| 2015-01-07 | IBM        |  0.011630  | -0.006536  | \n",
       "| 2015-01-08 | IBM        |  0.017888  |  0.021735  | \n",
       "| 2015-01-09 | IBM        | -0.008404  |  0.004356  | \n",
       "\n",
       "\n"
      ],
      "text/plain": [
       "  DATE       TICKER RM        R        \n",
       "1 2015-01-02 IBM    -0.000340  0.010097\n",
       "2 2015-01-05 IBM    -0.018278 -0.015735\n",
       "3 2015-01-06 IBM    -0.008893 -0.021566\n",
       "4 2015-01-07 IBM     0.011630 -0.006536\n",
       "5 2015-01-08 IBM     0.017888  0.021735\n",
       "6 2015-01-09 IBM    -0.008404  0.004356"
      ]
     },
     "metadata": {},
     "output_type": "display_data"
    }
   ],
   "source": [
    "df_c <- df[which(df$DATE > as.Date('2014-12-31') & df$DATE < as.Date('2016-01-01')),]  # Given time period\n",
    "head(df_c)"
   ]
  },
  {
   "cell_type": "code",
   "execution_count": 79,
   "metadata": {},
   "outputs": [
    {
     "data": {
      "text/html": [
       "<table>\n",
       "<thead><tr><th scope=col>IBM</th><th scope=col>AAPL</th><th scope=col>TSLA</th></tr></thead>\n",
       "<tbody>\n",
       "\t<tr><td> 0.010097</td><td>-0.009513</td><td>-0.013938</td></tr>\n",
       "\t<tr><td>-0.015735</td><td>-0.028172</td><td>-0.042041</td></tr>\n",
       "\t<tr><td>-0.021566</td><td> 0.000094</td><td> 0.005664</td></tr>\n",
       "\t<tr><td>-0.006536</td><td> 0.014022</td><td>-0.001562</td></tr>\n",
       "\t<tr><td> 0.021735</td><td> 0.038422</td><td>-0.001588</td></tr>\n",
       "\t<tr><td> 0.004356</td><td> 0.001073</td><td>-0.018778</td></tr>\n",
       "</tbody>\n",
       "</table>\n"
      ],
      "text/latex": [
       "\\begin{tabular}{r|lll}\n",
       " IBM & AAPL & TSLA\\\\\n",
       "\\hline\n",
       "\t  0.010097 & -0.009513 & -0.013938\\\\\n",
       "\t -0.015735 & -0.028172 & -0.042041\\\\\n",
       "\t -0.021566 &  0.000094 &  0.005664\\\\\n",
       "\t -0.006536 &  0.014022 & -0.001562\\\\\n",
       "\t  0.021735 &  0.038422 & -0.001588\\\\\n",
       "\t  0.004356 &  0.001073 & -0.018778\\\\\n",
       "\\end{tabular}\n"
      ],
      "text/markdown": [
       "\n",
       "IBM | AAPL | TSLA | \n",
       "|---|---|---|---|---|---|\n",
       "|  0.010097 | -0.009513 | -0.013938 | \n",
       "| -0.015735 | -0.028172 | -0.042041 | \n",
       "| -0.021566 |  0.000094 |  0.005664 | \n",
       "| -0.006536 |  0.014022 | -0.001562 | \n",
       "|  0.021735 |  0.038422 | -0.001588 | \n",
       "|  0.004356 |  0.001073 | -0.018778 | \n",
       "\n",
       "\n"
      ],
      "text/plain": [
       "  IBM       AAPL      TSLA     \n",
       "1  0.010097 -0.009513 -0.013938\n",
       "2 -0.015735 -0.028172 -0.042041\n",
       "3 -0.021566  0.000094  0.005664\n",
       "4 -0.006536  0.014022 -0.001562\n",
       "5  0.021735  0.038422 -0.001588\n",
       "6  0.004356  0.001073 -0.018778"
      ]
     },
     "metadata": {},
     "output_type": "display_data"
    }
   ],
   "source": [
    "df_c_2 <- dcast(df_c, DATE ~ TICKER, value.var = 'R')\n",
    "df_c_2 <- df_c_2[, c(\"IBM\", \"AAPL\", \"TSLA\")]\n",
    "head(df_c_2)"
   ]
  },
  {
   "cell_type": "code",
   "execution_count": 80,
   "metadata": {},
   "outputs": [],
   "source": [
    "# Compute the return\n",
    "hreturn <- as.matrix(df_c_2) %*% h"
   ]
  },
  {
   "cell_type": "code",
   "execution_count": 85,
   "metadata": {},
   "outputs": [
    {
     "data": {
      "image/png": "[encoded data removed]",
      "text/plain": [
       "plot without title"
      ]
     },
     "metadata": {},
     "output_type": "display_data"
    }
   ],
   "source": [
    "# Plot the cumulative sum of log returns\n",
    "options(repr.plot.height=4,repr.plot.width=6)\n",
    "plot(cumsum(log(1.0 + hreturn)),col='blue',ylab='Cumulative sum of log-returns')"
   ]
  },
  {
   "cell_type": "markdown",
   "metadata": {},
   "source": [
    "#### Answer of (d): Correlation of return from (c) to the market return"
   ]
  },
  {
   "cell_type": "code",
   "execution_count": 98,
   "metadata": {},
   "outputs": [
    {
     "data": {
      "text/html": [
       "<table>\n",
       "<thead><tr><th scope=col>DATE</th><th scope=col>AAPL</th><th scope=col>IBM</th><th scope=col>TSLA</th></tr></thead>\n",
       "<tbody>\n",
       "\t<tr><td>2015-01-02</td><td>-0.000340 </td><td>-0.000340 </td><td>-0.000340 </td></tr>\n",
       "\t<tr><td>2015-01-05</td><td>-0.018278 </td><td>-0.018278 </td><td>-0.018278 </td></tr>\n",
       "\t<tr><td>2015-01-06</td><td>-0.008893 </td><td>-0.008893 </td><td>-0.008893 </td></tr>\n",
       "\t<tr><td>2015-01-07</td><td> 0.011630 </td><td> 0.011630 </td><td> 0.011630 </td></tr>\n",
       "\t<tr><td>2015-01-08</td><td> 0.017888 </td><td> 0.017888 </td><td> 0.017888 </td></tr>\n",
       "\t<tr><td>2015-01-09</td><td>-0.008404 </td><td>-0.008404 </td><td>-0.008404 </td></tr>\n",
       "</tbody>\n",
       "</table>\n"
      ],
      "text/latex": [
       "\\begin{tabular}{r|llll}\n",
       " DATE & AAPL & IBM & TSLA\\\\\n",
       "\\hline\n",
       "\t 2015-01-02 & -0.000340  & -0.000340  & -0.000340 \\\\\n",
       "\t 2015-01-05 & -0.018278  & -0.018278  & -0.018278 \\\\\n",
       "\t 2015-01-06 & -0.008893  & -0.008893  & -0.008893 \\\\\n",
       "\t 2015-01-07 &  0.011630  &  0.011630  &  0.011630 \\\\\n",
       "\t 2015-01-08 &  0.017888  &  0.017888  &  0.017888 \\\\\n",
       "\t 2015-01-09 & -0.008404  & -0.008404  & -0.008404 \\\\\n",
       "\\end{tabular}\n"
      ],
      "text/markdown": [
       "\n",
       "DATE | AAPL | IBM | TSLA | \n",
       "|---|---|---|---|---|---|\n",
       "| 2015-01-02 | -0.000340  | -0.000340  | -0.000340  | \n",
       "| 2015-01-05 | -0.018278  | -0.018278  | -0.018278  | \n",
       "| 2015-01-06 | -0.008893  | -0.008893  | -0.008893  | \n",
       "| 2015-01-07 |  0.011630  |  0.011630  |  0.011630  | \n",
       "| 2015-01-08 |  0.017888  |  0.017888  |  0.017888  | \n",
       "| 2015-01-09 | -0.008404  | -0.008404  | -0.008404  | \n",
       "\n",
       "\n"
      ],
      "text/plain": [
       "  DATE       AAPL      IBM       TSLA     \n",
       "1 2015-01-02 -0.000340 -0.000340 -0.000340\n",
       "2 2015-01-05 -0.018278 -0.018278 -0.018278\n",
       "3 2015-01-06 -0.008893 -0.008893 -0.008893\n",
       "4 2015-01-07  0.011630  0.011630  0.011630\n",
       "5 2015-01-08  0.017888  0.017888  0.017888\n",
       "6 2015-01-09 -0.008404 -0.008404 -0.008404"
      ]
     },
     "metadata": {},
     "output_type": "display_data"
    }
   ],
   "source": [
    "# Get all\n",
    "df_d <- dcast(df_c, DATE ~ TICKER, value.var = 'RM')\n",
    "\n",
    "corr_all <- rep(0,k)\n",
    "head(df_d)\n"
   ]
  },
  {
   "cell_type": "code",
   "execution_count": 106,
   "metadata": {},
   "outputs": [
    {
     "name": "stdout",
     "output_type": "stream",
     "text": [
      "[1] \"IBM\"\n",
      "         IBM\n",
      "1: -0.000340\n",
      "2: -0.018278\n",
      "3: -0.008893\n",
      "4:  0.011630\n",
      "5:  0.017888\n",
      "6: -0.008404\n",
      "[1] \"AAPL\"\n",
      "         IBM\n",
      "1: -0.000340\n",
      "2: -0.018278\n",
      "3: -0.008893\n",
      "4:  0.011630\n",
      "5:  0.017888\n",
      "6: -0.008404\n",
      "[1] \"TSLA\"\n",
      "         IBM\n",
      "1: -0.000340\n",
      "2: -0.018278\n",
      "3: -0.008893\n",
      "4:  0.011630\n",
      "5:  0.017888\n",
      "6: -0.008404\n"
     ]
    }
   ],
   "source": [
    "for(tick in unique(df$TICKER)){\n",
    "    print(tick)\n",
    "    print(head(df_d[,'IBM']))\n",
    "}"
   ]
  },
  {
   "cell_type": "code",
   "execution_count": null,
   "metadata": {
    "collapsed": true
   },
   "outputs": [],
   "source": [
    "print(cor(hreturn, RM))\n",
    "result <- lm(hreturn ~ RM + 0)\n",
    "print(summary(result)$coefficients)"
   ]
  },
  {
   "cell_type": "code",
   "execution_count": null,
   "metadata": {
    "collapsed": true
   },
   "outputs": [],
   "source": [
    "print(cor(hreturn, RM))\n",
    "result <- lm(hreturn ~ RM + 0)\n",
    "print(summary(result)$coefficients)\n",
    "for(tick in unique(df$TICKER)) {\n",
    "    RM <- df_d[,tick]\n",
    "    corr_all[tick] <- cor(hreturn, RM)\n",
    "    reg <- lm(hreturn ~ 0+RM) # no intercept\n",
    "    cat('The summary of ', tick, ' is: ','\\n')\n",
    "    print(summary(reg)$coefficients)\n",
    "    cat('\\n')\n",
    "}"
   ]
  }
 ],
 "metadata": {
  "kernelspec": {
   "display_name": "R",
   "language": "R",
   "name": "ir"
  },
  "language_info": {
   "codemirror_mode": "r",
   "file_extension": ".r",
   "mimetype": "text/x-r-source",
   "name": "R",
   "pygments_lexer": "r",
   "version": "3.4.1"
  }
 },
 "nbformat": 4,
 "nbformat_minor": 2
}
