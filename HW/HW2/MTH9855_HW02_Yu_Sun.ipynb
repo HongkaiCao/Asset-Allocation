{
 "cells": [
  {
   "cell_type": "markdown",
   "metadata": {},
   "source": [
    "# MTH_9855_Homework_02\n",
    "## Sun, Yu"
   ]
  },
  {
   "cell_type": "markdown",
   "metadata": {},
   "source": [
    "### Problem. 1\n",
    "#### Part. (a)"
   ]
  },
  {
   "cell_type": "code",
   "execution_count": 61,
   "metadata": {
    "scrolled": true
   },
   "outputs": [
    {
     "name": "stdout",
     "output_type": "stream",
     "text": [
      "For ticker IBM  beta is 0.9067384 \n",
      "    Estimate Std. Error  t value Pr(>|t|)\n",
      "RM 0.9067384 0.01620043 55.97004        0\n",
      "For ticker AAPL  beta is 1.1363 \n",
      "   Estimate Std. Error  t value      Pr(>|t|)\n",
      "RM   1.1363 0.02934033 38.72828 1.606052e-294\n",
      "For ticker TSLA  beta is 1.310085 \n",
      "   Estimate Std. Error  t value     Pr(>|t|)\n",
      "RM 1.310085   0.104407 12.54786 6.510896e-34\n"
     ]
    }
   ],
   "source": [
    "df <- read.csv('BetaExample.txt', sep=\"|\")\n",
    "tickers <- unique(df$TICKER)\n",
    "\n",
    "betas <- rep(0, length(tickers))\n",
    "names(betas) <- tickers\n",
    "\n",
    "for(ticker in tickers){\n",
    "    # get sub data set\n",
    "    datatmp <- df[df$TICKER == ticker,]\n",
    "    data <- datatmp[(as.Date(datatmp$DATE) < as.Date('01-01-2015', format = \"%d-%m-%Y\")),]\n",
    "    # run linear regression\n",
    "    model <- lm(R ~ RM + 0, data = data)\n",
    "    betas[ticker] <- coef(model)\n",
    "    cat(\"For ticker\", ticker, \" beta is\", coef(model), \"\\n\") \n",
    "    print(summary(model)$coefficients)\n",
    "}"
   ]
  },
  {
   "cell_type": "markdown",
   "metadata": {},
   "source": [
    "<font color = 'blue'>\n",
    "For all three, the t value is large, we'll reject the null hypothesis that $\\beta = 0 $"
   ]
  },
  {
   "cell_type": "markdown",
   "metadata": {},
   "source": [
    "#### Part. (b)"
   ]
  },
  {
   "cell_type": "code",
   "execution_count": 62,
   "metadata": {},
   "outputs": [
    {
     "name": "stdout",
     "output_type": "stream",
     "text": [
      "       IBM       AAPL       TSLA \n",
      "-0.4308561  1.0000000 -0.5691439 \n"
     ]
    }
   ],
   "source": [
    "M <- matrix(0, length(tickers), 3)\n",
    "\n",
    "rownames(M) <- tickers\n",
    "colnames(M) <- c('AAPL', 'BETA', 'INTERCEPT')\n",
    "\n",
    "M['AAPL', 'AAPL'] <- 1.0\n",
    "\n",
    "for(ticker in tickers){\n",
    "    M[ticker, 'BETA'] <- betas[ticker]\n",
    "} \n",
    "M[,'INTERCEPT'] <- 1.0\n",
    "\n",
    "v <- rep(0, 3)\n",
    "names(v) <- c('AAPL', 'BETA', 'INTERCEPT')\n",
    "v['AAPL'] <- 1.0\n",
    "\n",
    "h <- solve(t(M), v)\n",
    "print(h)"
   ]
  },
  {
   "cell_type": "markdown",
   "metadata": {},
   "source": [
    "#### Part. (c)"
   ]
  },
  {
   "cell_type": "code",
   "execution_count": 97,
   "metadata": {},
   "outputs": [
    {
     "name": "stdout",
     "output_type": "stream",
     "text": [
      "NULL\n"
     ]
    },
    {
     "data": {
      "image/png": "[encoded data removed]",
      "text/plain": [
       "plot without title"
      ]
     },
     "metadata": {},
     "output_type": "display_data"
    }
   ],
   "source": [
    "library(reshape2)\n",
    "\n",
    "test <- df[(as.Date(df$DATE) > as.Date('31-12-2014',format = \"%d-%m-%Y\")),]\n",
    "testdata <- dcast(test, DATE ~ TICKER, value.var = 'R')\n",
    "testdata2 <- testdata[, c(\"IBM\", \"AAPL\", \"TSLA\")]\n",
    "\n",
    "hreturn <- as.matrix(testdata2) %*% h\n",
    "print(plot(cumsum(log(1.0 + hreturn))))"
   ]
  },
  {
   "cell_type": "markdown",
   "metadata": {},
   "source": [
    "#### Part. (d)"
   ]
  },
  {
   "cell_type": "code",
   "execution_count": 113,
   "metadata": {
    "scrolled": true
   },
   "outputs": [
    {
     "name": "stdout",
     "output_type": "stream",
     "text": [
      "           [,1]\n",
      "[1,] 0.02919532\n",
      "    Estimate Std. Error   t value  Pr(>|t|)\n",
      "RM 0.0547973  0.1187618 0.4614051 0.6449092\n"
     ]
    }
   ],
   "source": [
    "RM <- dcast(test, DATE ~ TICKER, value.var = 'RM')$IBM\n",
    "print(cor(hreturn, RM))\n",
    "result <- lm(hreturn ~ RM + 0)\n",
    "print(summary(result)$coefficients)"
   ]
  },
  {
   "cell_type": "markdown",
   "metadata": {},
   "source": [
    "<font color = 'blue'>\n",
    "The p value is large, so we fail to reject the null hypothesis that correlation is 0."
   ]
  },
  {
   "cell_type": "markdown",
   "metadata": {},
   "source": [
    "### Problem. 2"
   ]
  },
  {
   "cell_type": "markdown",
   "metadata": {},
   "source": [
    "<font color = 'blue'>\n",
    "The Woodbury matrix identity is \n",
    "$$\n",
    "\\left(A+UCV\\right)^{-1}=A^{-1}-A^{-1}U\\left(C^{-1}+VA^{-1}U\\right)^{-1}VA^{-1}\n",
    "$$\n",
    "\n",
    "Subsitute $A=D$, $U=X$, $C=F$, $V=X'$.\n",
    "\n",
    "\n",
    "When $\\Sigma = XFX' + D $, we have\n",
    "$$\n",
    "\\Sigma^{-1} = \n",
    "\\left(XFX'+D\\right)^{-1}=\\\\\n",
    "D^{-1}-D^{-1}X\\left(F^{-1}+X'D^{-1}X\\right)^{-1}X'D^{-1}\n",
    "$$\n"
   ]
  },
  {
   "cell_type": "markdown",
   "metadata": {},
   "source": [
    "### Problem. 3"
   ]
  },
  {
   "cell_type": "markdown",
   "metadata": {},
   "source": [
    "<font color = 'blue'>\n",
    "We will have singular-value decomposition on $X$ and get $X=USV'$. Assume $rank(X) = r$, so $S = diag(s_1,s_2,...,s_r,0,...0)$\n",
    "\n",
    "$$\n",
    "lim_{\\delta\\rightarrow0^{+}}\\left(X'X+\\delta I\\right)^{-1}X'Y\t=lim_{\\delta\\rightarrow0^{+}}\\left(S'S+\\delta I\\right)^{-1}VSU'Y\\\\\n",
    "\t=lim_{\\delta\\rightarrow0^{+}}Vdiag\\left(\\frac{s_{1}}{s_{1}^{2}+\\delta},...,\\frac{s_{r}}{s_{r}^{2}+\\delta},0,...,0\\right)U'Y\\\\\n",
    "\t=Vdiag\\left(\\frac{1}{s_{1}},...,\\frac{1}{s_{r}},0,...,0\\right)U'Y\\\\\n",
    "\t=VS^{+}U'Y\n",
    "$$\n",
    "if we define $S^+ = diag\\left(\\frac{1}{s_{1}},...,\\frac{1}{s_{r}},0,...,0\\right)$.\n",
    "\n",
    "So we proved (1) and (3) are equal.\n",
    "\n",
    "For (2), we know b is a solution iff $X'(Y-Xb)=0$. Assume (3) is a solution, we have\n",
    "$$\n",
    "X'(Y-XVS^{+}U'Y) = X'Y - VS^2S^+U'Y \\\\\n",
    "=X'Y - VSU'Y\\\\\n",
    "=X'Y - X'Y\\\\\n",
    "=0$$\n",
    "\n",
    "Also we could prove $VS^{+}U'Y$ is smallest because for any solution b, we have\n",
    "$$\n",
    "\t\\parallel b\\parallel^{2}=\\parallel b+VS^{+}U'Y-VS^{+}U'Y\\parallel^{2}\\\\\n",
    "\t=\\parallel VS^{+}U'Y\\parallel^{2}+\\parallel b-VS^{+}U'Y\\parallel^{2}+2\\left(b-VS^{+}U'Y\\right)'VS^{+}U'Y\\\\\n",
    "\t=\\parallel VS^{+}U'Y\\parallel^{2}+\\parallel b-VS^{+}U'Y\\parallel^{2}+2\\left(b-VS^{+}U'Y\\right)'X'XV\\left(S^{+}\\right)^{3}U'Y\\\\\n",
    "\t=\\parallel VS^{+}U'Y\\parallel^{2}+\\parallel b-VS^{+}U'Y\\parallel^{2}+2\\left(X'X\\left(b-VS^{+}U'Y\\right)\\right)'V\\left(S^{+}\\right)^{3}U'Y\\\\\n",
    "\t=\\parallel VS^{+}U'Y\\parallel^{2}+\\parallel b-VS^{+}U'Y\\parallel^{2}+2\\left(X'Xb-X'Y\\right)'V\\left(S^{+}\\right)^{3}U'Y\\\\\n",
    "\t=\\parallel VS^{+}U'Y\\parallel^{2}+\\parallel b-VS^{+}U'Y\\parallel^{2}+0\\\\\n",
    "\t\\geq\\parallel VS^{+}U'Y\\parallel^{2}\n",
    "    $$\n",
    "    \n",
    "So we proved (2) and (3) are equal."
   ]
  }
 ],
 "metadata": {
  "anaconda-cloud": {},
  "kernelspec": {
   "display_name": "R",
   "language": "R",
   "name": "ir"
  },
  "language_info": {
   "codemirror_mode": "r",
   "file_extension": ".r",
   "mimetype": "text/x-r-source",
   "name": "R",
   "pygments_lexer": "r",
   "version": "3.4.1"
  }
 },
 "nbformat": 4,
 "nbformat_minor": 1
}
