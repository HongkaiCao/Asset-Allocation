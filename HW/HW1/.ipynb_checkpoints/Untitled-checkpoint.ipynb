{
 "cells": [
  {
   "cell_type": "markdown",
   "metadata": {},
   "source": [
    "## MTH9855 Asset Allocation and Portfolio Management\n",
    "\n",
    "* HW 01\n",
    "* Author: **Hongchao Pan**"
   ]
  },
  {
   "cell_type": "markdown",
   "metadata": {},
   "source": [
    "### Problem 1.1"
   ]
  },
  {
   "cell_type": "markdown",
   "metadata": {},
   "source": [
    "* In probability theory, if X is a random variable, then we have Jensen's inequality stats that $\\phi (\\mathbb{E}(X)) \\le \\mathbb{E}(\\phi(X))$ if and only if $\\phi$ is a convex function. Or we can state this as: $\\mathbb{E}(\\phi(X)) \\le \\phi (\\mathbb{E}(X))$ if and only if $\\phi$ is a concave function.\n",
    "\n",
    "\n",
    "* Let $\\phi \\stackrel{d}{=}$"
   ]
  },
  {
   "cell_type": "code",
   "execution_count": null,
   "metadata": {
    "collapsed": true
   },
   "outputs": [],
   "source": []
  }
 ],
 "metadata": {
  "kernelspec": {
   "display_name": "R",
   "language": "R",
   "name": "ir"
  },
  "language_info": {
   "codemirror_mode": "r",
   "file_extension": ".r",
   "mimetype": "text/x-r-source",
   "name": "R",
   "pygments_lexer": "r",
   "version": "3.3.2"
  }
 },
 "nbformat": 4,
 "nbformat_minor": 2
}
